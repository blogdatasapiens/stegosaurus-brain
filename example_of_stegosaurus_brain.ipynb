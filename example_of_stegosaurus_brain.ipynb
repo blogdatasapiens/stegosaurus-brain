{
 "cells": [
  {
   "cell_type": "code",
   "execution_count": 8,
   "metadata": {
    "collapsed": false
   },
   "outputs": [
    {
     "name": "stderr",
     "output_type": "stream",
     "text": [
      "WARNING: replacing module Perceptron\n",
      "WARNING: ignoring conflicting import of Perceptron.SingleLayerPerceptron into Main\n"
     ]
    },
    {
     "data": {
      "text/plain": [
       "Logger(root,INFO,Base.PipeEndpoint(open, 0 bytes waiting),root)"
      ]
     },
     "execution_count": 8,
     "metadata": {},
     "output_type": "execute_result"
    }
   ],
   "source": [
    "include(\"Perceptron.jl\")\n",
    "importall Perceptron\n",
    "\n",
    "using Logging\n",
    "Logging.configure(level=INFO)"
   ]
  },
  {
   "cell_type": "code",
   "execution_count": 9,
   "metadata": {
    "collapsed": false,
    "scrolled": false
   },
   "outputs": [
    {
     "name": "stderr",
     "output_type": "stream",
     "text": [
      "17-Apr 16:37:19:INFO:root:[0.1,0.0,0.0]\n",
      "17-Apr 16:37:19:INFO:root:[0.2,0.0,0.1]\n",
      "17-Apr 16:37:19:INFO:root:[0.30000000000000004,0.1,0.1]\n",
      "17-Apr 16:37:19:INFO:root:[0.20000000000000004,0.0,0.0]\n",
      "17-Apr 16:37:19:INFO:root:[0.30000000000000004,0.0,0.0]\n",
      "17-Apr 16:37:19:INFO:root:[0.4,0.0,0.1]\n",
      "17-Apr 16:37:19:INFO:root:[0.5,0.1,0.1]\n",
      "17-Apr 16:37:19:INFO:root:[0.4,0.0,0.0]\n",
      "17-Apr 16:37:19:INFO:root:[0.5,0.0,0.0]\n",
      "17-Apr 16:37:19:INFO:root:[0.5,0.0,0.0]\n",
      "17-Apr 16:37:19:INFO:root:[0.5,0.0,0.0]\n",
      "17-Apr 16:37:19:INFO:root:[0.4,-0.1,-0.1]\n",
      "17-Apr 16:37:19:INFO:root:[0.5,-0.1,-0.1]\n",
      "17-Apr 16:37:19:INFO:root:[0.6,-0.1,0.0]\n",
      "17-Apr 16:37:19:INFO:root:[0.6,-0.1,0.0]\n",
      "17-Apr 16:37:19:INFO:root:[0.5,-0.2,-0.1]\n",
      "17-Apr 16:37:19:INFO:root:[0.5,-0.2,-0.1]\n",
      "17-Apr 16:37:19:INFO:root:[0.6,-0.2,0.0]\n",
      "17-Apr 16:37:19:INFO:root:[0.7,-0.1,0.0]\n",
      "17-Apr 16:37:19:INFO:root:[0.6,-0.2,-0.1]\n",
      "17-Apr 16:37:19:INFO:root:[0.6,-0.2,-0.1]\n",
      "17-Apr 16:37:19:INFO:root:[0.6,-0.2,-0.1]\n",
      "17-Apr 16:37:19:INFO:root:[0.7,-0.1,-0.1]\n",
      "17-Apr 16:37:19:INFO:root:[0.6,-0.2,-0.2]\n",
      "17-Apr 16:37:19:INFO:root:[0.6,-0.2,-0.2]\n",
      "17-Apr 16:37:19:INFO:root:[0.7,-0.2,-0.1]\n",
      "17-Apr 16:37:19:INFO:root:[0.7999999999999999,-0.1,-0.1]\n",
      "17-Apr 16:37:19:INFO:root:[0.7,-0.2,-0.2]\n",
      "17-Apr 16:37:19:INFO:root:[0.7,-0.2,-0.2]\n",
      "17-Apr 16:37:19:INFO:root:[0.7999999999999999,-0.2,-0.1]\n",
      "17-Apr 16:37:19:INFO:root:[0.7999999999999999,-0.2,-0.1]\n",
      "17-Apr 16:37:19:INFO:root:[0.7999999999999999,-0.2,-0.1]\n",
      "17-Apr 16:37:19:INFO:root:[0.7999999999999999,-0.2,-0.1]\n",
      "17-Apr 16:37:19:INFO:root:[0.7999999999999999,-0.2,-0.1]\n",
      "17-Apr 16:37:19:INFO:root:[0.7999999999999999,-0.2,-0.1]\n",
      "17-Apr 16:37:19:INFO:root:[0.7999999999999999,-0.2,-0.1]\n",
      "17-Apr 16:37:19:INFO:root:[0.7999999999999999,-0.2,-0.1]\n",
      "17-Apr 16:37:19:INFO:root:[0.7999999999999999,-0.2,-0.1]\n",
      "17-Apr 16:37:19:INFO:root:[0.7999999999999999,-0.2,-0.1]\n",
      "17-Apr 16:37:19:INFO:root:[0.7999999999999999,-0.2,-0.1]\n"
     ]
    }
   ],
   "source": [
    "reps = 10\n",
    "\n",
    "train = repmat([[0 0];\n",
    "    [0 1];\n",
    "    [1 0];\n",
    "    [1 1]], reps, 1)\n",
    "\n",
    "class = repmat([1 1 1 0], 1, reps)\n",
    "\n",
    "\n",
    "brain = SingleLayerPerceptron(2)\n",
    "brain.train!(train, class)\n",
    "\n",
    "#println(brain.predict([1 0]))"
   ]
  },
  {
   "cell_type": "code",
   "execution_count": 3,
   "metadata": {
    "collapsed": false
   },
   "outputs": [
    {
     "data": {
      "text/plain": [
       "3x4 Array{Int64,2}:\n",
       " 1  0  0  1\n",
       " 1  0  0  1\n",
       " 1  0  0  1"
      ]
     },
     "execution_count": 3,
     "metadata": {},
     "output_type": "execute_result"
    }
   ],
   "source": [
    "class = repmat([1 0 0 1], 3, 1)"
   ]
  },
  {
   "cell_type": "code",
   "execution_count": 4,
   "metadata": {
    "collapsed": false
   },
   "outputs": [
    {
     "name": "stdout",
     "output_type": "stream",
     "text": [
      "(1,3)\n",
      "(3,1)\n",
      "[6]\n",
      "(1,3)\n",
      "[0.3999999999999999\n",
      " -0.20000000000000018\n",
      " -0.8000000000000003]\n",
      "(1,3)\n",
      "(3,1)\n",
      "[-4.200000000000003]\n",
      "(1,3)\n",
      "[6.160000000000002\n",
      " 7.000000000000003\n",
      " 7.840000000000003]\n"
     ]
    },
    {
     "data": {
      "text/plain": [
       "3x1 Array{Float64,2}:\n",
       " 6.16\n",
       " 7.0 \n",
       " 7.84"
      ]
     },
     "execution_count": 4,
     "metadata": {},
     "output_type": "execute_result"
    }
   ],
   "source": [
    "x = [[1 2 3];[4 5 6]]\n",
    "y = [3 3]\n",
    "\n",
    "function test_train(x, y, r)\n",
    "    w = [1 1 1]' # (3,1)\n",
    "    for i=1:size(x,1)\n",
    "        println(size(x[i,:])) #(1,3)\n",
    "        println(size(w))\n",
    "        result = x[i,:]*w #(1,3)*(3,1)\n",
    "        println(result)\n",
    "        println(size(x[i,:]))\n",
    "        w = w + r*x[i,:]'*(y[i] - result) #(3,1) + (1,3)'\n",
    "        println(w)\n",
    "    end\n",
    "    return(w)\n",
    "end\n",
    "\n",
    "test_train(x,y,0.2)\n",
    "\n",
    "\n",
    "#println(typeof(a))\n",
    "#println(a)\n",
    "#for i=1:size(a,1)\n",
    "#    println(a[i,:])\n",
    "#    println(\"newline\")\n",
    "#end"
   ]
  }
 ],
 "metadata": {
  "kernelspec": {
   "display_name": "Julia 0.4.5",
   "language": "julia",
   "name": "julia-0.4"
  },
  "language_info": {
   "file_extension": ".jl",
   "mimetype": "application/julia",
   "name": "julia",
   "version": "0.4.5"
  }
 },
 "nbformat": 4,
 "nbformat_minor": 0
}
